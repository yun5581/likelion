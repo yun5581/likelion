{
 "cells": [
  {
   "cell_type": "code",
   "execution_count": 3,
   "metadata": {},
   "outputs": [
    {
     "ename": "TypeError",
     "evalue": "'str' object does not support item assignment",
     "output_type": "error",
     "traceback": [
      "\u001b[0;31m---------------------------------------------------------------------------\u001b[0m",
      "\u001b[0;31mTypeError\u001b[0m                                 Traceback (most recent call last)",
      "\u001b[0;32m/var/folders/f5/f679w_fx11d_p3pg630typsm0000gn/T/ipykernel_42649/3719109451.py\u001b[0m in \u001b[0;36m<module>\u001b[0;34m\u001b[0m\n\u001b[1;32m      3\u001b[0m \u001b[0mlunch\u001b[0m \u001b[0;34m=\u001b[0m \u001b[0mrandom\u001b[0m\u001b[0;34m.\u001b[0m\u001b[0mchoice\u001b[0m\u001b[0;34m(\u001b[0m\u001b[0;34m[\u001b[0m\u001b[0;34m\"된장찌개\"\u001b[0m\u001b[0;34m,\u001b[0m\u001b[0;34m\"피자\"\u001b[0m\u001b[0;34m,\u001b[0m\u001b[0;34m\"제육볶음\"\u001b[0m\u001b[0;34m]\u001b[0m\u001b[0;34m)\u001b[0m\u001b[0;34m\u001b[0m\u001b[0;34m\u001b[0m\u001b[0m\n\u001b[1;32m      4\u001b[0m \u001b[0mdinner\u001b[0m \u001b[0;34m=\u001b[0m \u001b[0mrandom\u001b[0m\u001b[0;34m.\u001b[0m\u001b[0mchoice\u001b[0m\u001b[0;34m(\u001b[0m\u001b[0;34m[\u001b[0m\u001b[0;34m\"김밥\"\u001b[0m\u001b[0;34m,\u001b[0m\u001b[0;34m\"쫄면\"\u001b[0m\u001b[0;34m,\u001b[0m\u001b[0;34m\"돈까스\"\u001b[0m\u001b[0;34m]\u001b[0m\u001b[0;34m)\u001b[0m\u001b[0;34m\u001b[0m\u001b[0;34m\u001b[0m\u001b[0m\n\u001b[0;32m----> 5\u001b[0;31m \u001b[0mlunch\u001b[0m\u001b[0;34m[\u001b[0m\u001b[0;36m3\u001b[0m\u001b[0;34m]\u001b[0m \u001b[0;34m=\u001b[0m \u001b[0;34m\"냉장고\"\u001b[0m\u001b[0;34m\u001b[0m\u001b[0;34m\u001b[0m\u001b[0m\n\u001b[0m\u001b[1;32m      6\u001b[0m \u001b[0mprint\u001b[0m\u001b[0;34m(\u001b[0m\u001b[0mlunch\u001b[0m\u001b[0;34m)\u001b[0m\u001b[0;34m\u001b[0m\u001b[0;34m\u001b[0m\u001b[0m\n",
      "\u001b[0;31mTypeError\u001b[0m: 'str' object does not support item assignment"
     ]
    }
   ],
   "source": [
    "import random\n",
    "\n",
    "lunch = random.choice([\"된장찌개\",\"피자\",\"제육볶음\"])\n",
    "dinner = random.choice([\"김밥\",\"쫄면\",\"돈까스\"])\n",
    "lunch[3] = \"냉장고\"\n",
    "print(lunch)"
   ]
  },
  {
   "cell_type": "code",
   "execution_count": 17,
   "metadata": {},
   "outputs": [
    {
     "name": "stdout",
     "output_type": "stream",
     "text": [
      "된장찌개\n",
      "피자\n",
      "제육볶음\n",
      "된장찌개\n",
      "피자\n",
      "제육볶음\n",
      "고향\n",
      "수원\n",
      "취미\n",
      "영화관람\n",
      "좋아하는 음식\n",
      "국수\n"
     ]
    }
   ],
   "source": [
    "information = {'고향':'수원','취미':'영화관람','좋아하는 음식':'국수'}\n",
    "foods = [\"된장찌개\", \"피자\", \"제육볶음\"]\n",
    "\n",
    "# print(information.get('취미'))\n",
    "# information['특기']='피아노'\n",
    "# information['사는 곳'] = '서울'\n",
    "# del information['좋아하는 음식']\n",
    "# print(information)\n",
    "# print(len(information))\n",
    "# information.clear()\n",
    "# print(information)\n",
    "\n",
    "# print(foods[-2])\n",
    "# del foods[1]\n",
    "\n",
    "for i in range (3):\n",
    "    print(foods[i])\n",
    "\n",
    "for i in foods:\n",
    "    print(i)\n",
    "\n",
    "for i,j in information.items():\n",
    "    print(i)\n",
    "    print(j)\n"
   ]
  },
  {
   "cell_type": "code",
   "execution_count": 18,
   "metadata": {},
   "outputs": [
    {
     "name": "stdout",
     "output_type": "stream",
     "text": [
      "{'된장찌개', '제육볶음', '피자'}\n",
      "{'된장찌개', '제육볶음', '피자'}\n"
     ]
    }
   ],
   "source": [
    "# 리스트는 순서 , 중복 O / 집합은 순서, 중복 X\n",
    "foods = [\"된장찌개\", \"피자\", \"제육볶음\",\"된장찌개\"]\n",
    "foods_set1 = set(foods)\n",
    "foods_set2 = set([\"된장찌개\", \"피자\", \"제육볶음\"])\n",
    "print(foods_set1)\n",
    "print(foods_set2)"
   ]
  },
  {
   "cell_type": "code",
   "execution_count": 21,
   "metadata": {},
   "outputs": [
    {
     "name": "stdout",
     "output_type": "stream",
     "text": [
      "{'제육볶음', '피자'}\n"
     ]
    }
   ],
   "source": [
    "menu1 = set([\"된장찌개\", \"피자\", \"제육볶음\"])\n",
    "menu2 = set([\"된장찌개\", \"떡국\", \"김밥\"])\n",
    "menu3 = menu1 - menu2\n",
    "print(menu3)\n"
   ]
  },
  {
   "cell_type": "code",
   "execution_count": null,
   "metadata": {},
   "outputs": [],
   "source": []
  }
 ],
 "metadata": {
  "interpreter": {
   "hash": "b0fa6594d8f4cbf19f97940f81e996739fb7646882a419484c72d19e05852a7e"
  },
  "kernelspec": {
   "display_name": "Python 3.9.7 64-bit",
   "language": "python",
   "name": "python3"
  },
  "language_info": {
   "codemirror_mode": {
    "name": "ipython",
    "version": 3
   },
   "file_extension": ".py",
   "mimetype": "text/x-python",
   "name": "python",
   "nbconvert_exporter": "python",
   "pygments_lexer": "ipython3",
   "version": "3.9.7"
  },
  "orig_nbformat": 4
 },
 "nbformat": 4,
 "nbformat_minor": 2
}
